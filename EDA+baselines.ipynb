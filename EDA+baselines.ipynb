{
  "cells": [
    {
      "cell_type": "markdown",
      "metadata": {
        "id": "view-in-github",
        "colab_type": "text"
      },
      "source": [
        "<a href=\"https://colab.research.google.com/github/romoreira/Selic-TSPrediction/blob/main/EDA%2Bbaselines.ipynb\" target=\"_parent\"><img src=\"https://colab.research.google.com/assets/colab-badge.svg\" alt=\"Open In Colab\"/></a>"
      ]
    },
    {
      "cell_type": "markdown",
      "id": "working-spectacular",
      "metadata": {
        "id": "working-spectacular"
      },
      "source": [
        "This notebook is used for exploratory data analysis."
      ]
    },
    {
      "cell_type": "code",
      "execution_count": 1,
      "id": "governmental-communist",
      "metadata": {
        "id": "governmental-communist"
      },
      "outputs": [],
      "source": [
        "import warnings\n",
        "warnings.filterwarnings('ignore')"
      ]
    },
    {
      "cell_type": "code",
      "execution_count": 2,
      "id": "intelligent-telling",
      "metadata": {
        "id": "intelligent-telling"
      },
      "outputs": [],
      "source": [
        "import pandas as pd\n",
        "import numpy as np\n",
        "import matplotlib.pyplot as plt\n",
        "import seaborn as sns\n",
        "import matplotlib as mpl"
      ]
    },
    {
      "cell_type": "code",
      "execution_count": 3,
      "id": "south-windsor",
      "metadata": {
        "id": "south-windsor"
      },
      "outputs": [],
      "source": [
        "from datetime import datetime, timedelta\n",
        "import statsmodels.api as sm\n",
        "from statsmodels.graphics.tsaplots import plot_acf, plot_pacf\n",
        "from statsmodels.tsa.stattools import adfuller, kpss\n",
        "from statsmodels.tsa.seasonal import seasonal_decompose"
      ]
    },
    {
      "cell_type": "code",
      "execution_count": 4,
      "id": "professional-contents",
      "metadata": {
        "id": "professional-contents"
      },
      "outputs": [],
      "source": [
        "from statsmodels.tsa.holtwinters import ExponentialSmoothing\n",
        "from statsmodels.tsa.arima_model import ARMA"
      ]
    },
    {
      "cell_type": "code",
      "execution_count": 5,
      "id": "popular-reflection",
      "metadata": {
        "id": "popular-reflection"
      },
      "outputs": [],
      "source": [
        "from math import sqrt\n",
        "from sklearn.metrics import mean_squared_error, mean_absolute_error, mean_absolute_error"
      ]
    },
    {
      "cell_type": "code",
      "execution_count": 6,
      "id": "utility-holly",
      "metadata": {
        "id": "utility-holly"
      },
      "outputs": [],
      "source": [
        "from statsmodels.tsa.stattools import grangercausalitytests\n",
        "from statsmodels.tsa.vector_ar.vecm import coint_johansen\n",
        "from statsmodels.tsa.vector_ar.var_model import VAR\n",
        "from statsmodels.tsa.vector_ar.vecm import VECM"
      ]
    },
    {
      "cell_type": "code",
      "execution_count": 7,
      "id": "white-float",
      "metadata": {
        "colab": {
          "base_uri": "https://localhost:8080/"
        },
        "id": "white-float",
        "outputId": "8fc022b8-d1b6-470e-be61-a220adc42db2"
      },
      "outputs": [
        {
          "output_type": "stream",
          "name": "stdout",
          "text": [
            "3.2.2\n",
            "0.11.2\n"
          ]
        }
      ],
      "source": [
        "large = 22; med = 16; small = 12\n",
        "params = {'axes.titlesize': large,\n",
        "           'legend.fontsize': med,\n",
        "           'figure.figsize': (10, 6),\n",
        "           'axes.labelsize': med,\n",
        "           'axes.titlesize': med,\n",
        "           'xtick.labelsize': med,\n",
        "           'ytick.labelsize': med,\n",
        "           'figure.titlesize': large}\n",
        "plt.rcParams.update(params)\n",
        "plt.style.use('seaborn-whitegrid')\n",
        "sns.set_style(\"white\")\n",
        "%matplotlib inline\n",
        "\n",
        "# Version\n",
        "print(mpl.__version__)\n",
        "print(sns.__version__)"
      ]
    },
    {
      "cell_type": "code",
      "source": [
        "from google.colab import drive\n",
        "drive.mount('/content/drive')"
      ],
      "metadata": {
        "colab": {
          "base_uri": "https://localhost:8080/"
        },
        "id": "idneIkBPuTz_",
        "outputId": "cb747c14-f312-4c27-9b7a-f63048ec65b4"
      },
      "id": "idneIkBPuTz_",
      "execution_count": 8,
      "outputs": [
        {
          "output_type": "stream",
          "name": "stdout",
          "text": [
            "Mounted at /content/drive\n"
          ]
        }
      ]
    },
    {
      "cell_type": "markdown",
      "id": "presidential-webcam",
      "metadata": {
        "id": "presidential-webcam"
      },
      "source": [
        "Load data now:"
      ]
    },
    {
      "cell_type": "code",
      "execution_count": 9,
      "id": "confidential-investigation",
      "metadata": {
        "id": "confidential-investigation"
      },
      "outputs": [],
      "source": [
        "file_name = \"/content/drive/MyDrive/Papers/LatinAmerica-Journal/selicdados2.csv\"\n"
      ]
    },
    {
      "cell_type": "code",
      "source": [
        "def plot_error(data, figsize=(12, 9), lags=24, rotation=0):\n",
        "    \n",
        "    # Creating the column error\n",
        "    data['Error'] = data.iloc[:,0] - data.iloc[:,1]\n",
        "    \n",
        "    plt.figure(figsize=figsize)\n",
        "    ax1 = plt.subplot2grid((2,2), (0,0))\n",
        "    ax2 = plt.subplot2grid((2,2), (0,1))\n",
        "    ax3 = plt.subplot2grid((2,2), (1,0))\n",
        "    ax4 = plt.subplot2grid((2,2), (1,1))\n",
        "    \n",
        "    # Plotting actual and predicted values\n",
        "    ax1.plot(data.iloc[:, 0:2])\n",
        "    ax1.legend(['Real', 'Pred'])\n",
        "    ax1.set_title('Real Value vs Prediction')\n",
        "    ax1.xaxis.set_tick_params(rotation=rotation)\n",
        "    \n",
        "    # Error vs Predicted value\n",
        "    ax2.scatter(data.iloc[:,1], data.iloc[:,2])\n",
        "    ax2.set_xlabel('Predicted Values')\n",
        "    ax2.set_ylabel('Residual')\n",
        "    ax2.set_title('Residual vs Predicted Values')\n",
        "    \n",
        "    # Residual QQ Plot\n",
        "    sm.graphics.qqplot(data.iloc[:,2], line='r', ax=ax3)\n",
        "    \n",
        "    # Autocorrelation Plot of residual\n",
        "    plot_acf(data.iloc[:, 2], lags=lags, zero=False, ax=ax4)\n",
        "    plt.tight_layout()\n",
        "    plt.show()"
      ],
      "metadata": {
        "id": "FrW_Rj-BfMRl"
      },
      "id": "FrW_Rj-BfMRl",
      "execution_count": 13,
      "outputs": []
    },
    {
      "cell_type": "code",
      "source": [
        "def check_error(orig, pred, name_col='', index_name=''):\n",
        "    \n",
        "    bias = np.mean(orig - pred)\n",
        "    mse = mean_squared_error(orig, pred)\n",
        "    rmse = sqrt(mean_squared_error(orig, pred))\n",
        "    mae = mean_absolute_error(orig, pred)\n",
        "    mape = np.mean(np.abs((orig - pred) / orig)) * 100\n",
        "    \n",
        "    error_group = [bias, mse, rmse, mae, mape]\n",
        "    result = pd.DataFrame(error_group, index=['BIAS','MSE','RMSE','MAE', 'MAPE'], columns=[name_col])\n",
        "    result.index.name = index_name\n",
        "    \n",
        "    return result"
      ],
      "metadata": {
        "id": "P2PZmv4-fJq9"
      },
      "id": "P2PZmv4-fJq9",
      "execution_count": 12,
      "outputs": []
    },
    {
      "cell_type": "code",
      "source": [
        "from pandas import read_csv\n",
        "from numpy import mean\n",
        "from sklearn.metrics import mean_squared_error\n",
        "from matplotlib import pyplot\n",
        "import math\n",
        "series = read_csv(file_name, header=0, index_col=0)\n",
        "# prepare situation\n",
        "X = series.values\n",
        "window = 5503\n",
        "history = [X[i] for i in range(window)]\n",
        "test = [X[i] for i in range(window, len(X))]\n",
        "predictions = list()\n",
        "# walk forward over time steps in test\n",
        "for t in range(len(test)):\n",
        "\tlength = len(history)\n",
        "\tyhat = mean([history[i] for i in range(length-window,length)])\n",
        "\tobs = test[t]\n",
        "\tpredictions.append(yhat)\n",
        "\thistory.append(obs)\n",
        "\t#print('predicted=%f, expected=%f' % (yhat, obs))\n",
        "\n",
        "\n",
        "\n",
        "\n",
        "error = mean_absolute_error(test, predictions)\n",
        "print('Media Movel - MAE: %.6f' % error)\n",
        "RMSE = math.sqrt(error)\n",
        "print(\"Media Movel - RMSE:  \"+str(RMSE))\n",
        "\n",
        "\n",
        "\n",
        "# plot\n",
        "pyplot.plot(test)\n",
        "pyplot.plot(predictions, color='red')\n",
        "pyplot.show()\n",
        "# zoom plot\n",
        "pyplot.plot(test[0:2000])\n",
        "pyplot.plot(predictions[0:2000], color='red')\n",
        "pyplot.show()\n",
        "\n",
        "series['Predito'] = series['SelicDia'].ewm(span=5503, adjust=False).mean()\n",
        "#print(series)\n",
        "\n",
        "error = mean_absolute_error(series['SelicDia'], series['Predito'])\n",
        "print('Media Movel Exponencial - MAE: %.6f' % error)\n",
        "RMSE = math.sqrt(error)\n",
        "print(\"Media Movel Exponencial - RMSE:  \"+str(RMSE))\n",
        "\n",
        "check_error(series['SelicDia'], series['Predito'])\n"
      ],
      "metadata": {
        "colab": {
          "base_uri": "https://localhost:8080/",
          "height": 776
        },
        "id": "cdhb6f0e74fv",
        "outputId": "2f3fabe0-9894-4f4d-a3bc-f333f39578d3"
      },
      "id": "cdhb6f0e74fv",
      "execution_count": 35,
      "outputs": [
        {
          "output_type": "stream",
          "name": "stdout",
          "text": [
            "Media Movel - MAE: 0.028805\n",
            "Media Movel - RMSE:  0.16972167289703002\n"
          ]
        },
        {
          "output_type": "display_data",
          "data": {
            "text/plain": [
              "<Figure size 432x288 with 1 Axes>"
            ],
            "image/png": "[encoded data removed]"
          },
          "metadata": {
            "needs_background": "light"
          }
        },
        {
          "output_type": "display_data",
          "data": {
            "text/plain": [
              "<Figure size 432x288 with 1 Axes>"
            ],
            "image/png": "[encoded data removed]"
          },
          "metadata": {
            "needs_background": "light"
          }
        },
        {
          "output_type": "stream",
          "name": "stdout",
          "text": [
            "Media Movel Exponencial - MAE: 0.051176\n",
            "Media Movel Exponencial - RMSE:  0.22622052264161718\n"
          ]
        },
        {
          "output_type": "execute_result",
          "data": {
            "text/plain": [
              "                \n",
              "                \n",
              "BIAS   -0.050559\n",
              "MSE     0.003046\n",
              "RMSE    0.055194\n",
              "MAE     0.051176\n",
              "MAPE  125.559849"
            ],
            "text/html": [
              "\n",
              "  <div id=\"df-8baf5a9f-230b-4e66-8c1f-dc2c17eb1a64\">\n",
              "    <div class=\"colab-df-container\">\n",
              "      <div>\n",
              "<style scoped>\n",
              "    .dataframe tbody tr th:only-of-type {\n",
              "        vertical-align: middle;\n",
              "    }\n",
              "\n",
              "    .dataframe tbody tr th {\n",
              "        vertical-align: top;\n",
              "    }\n",
              "\n",
              "    .dataframe thead th {\n",
              "        text-align: right;\n",
              "    }\n",
              "</style>\n",
              "<table border=\"1\" class=\"dataframe\">\n",
              "  <thead>\n",
              "    <tr style=\"text-align: right;\">\n",
              "      <th></th>\n",
              "      <th></th>\n",
              "    </tr>\n",
              "    <tr>\n",
              "      <th></th>\n",
              "      <th></th>\n",
              "    </tr>\n",
              "  </thead>\n",
              "  <tbody>\n",
              "    <tr>\n",
              "      <th>BIAS</th>\n",
              "      <td>-0.050559</td>\n",
              "    </tr>\n",
              "    <tr>\n",
              "      <th>MSE</th>\n",
              "      <td>0.003046</td>\n",
              "    </tr>\n",
              "    <tr>\n",
              "      <th>RMSE</th>\n",
              "      <td>0.055194</td>\n",
              "    </tr>\n",
              "    <tr>\n",
              "      <th>MAE</th>\n",
              "      <td>0.051176</td>\n",
              "    </tr>\n",
              "    <tr>\n",
              "      <th>MAPE</th>\n",
              "      <td>125.559849</td>\n",
              "    </tr>\n",
              "  </tbody>\n",
              "</table>\n",
              "</div>\n",
              "      <button class=\"colab-df-convert\" onclick=\"convertToInteractive('df-8baf5a9f-230b-4e66-8c1f-dc2c17eb1a64')\"\n",
              "              title=\"Convert this dataframe to an interactive table.\"\n",
              "              style=\"display:none;\">\n",
              "        \n",
              "  <svg xmlns=\"http://www.w3.org/2000/svg\" height=\"24px\"viewBox=\"0 0 24 24\"\n",
              "       width=\"24px\">\n",
              "    <path d=\"M0 0h24v24H0V0z\" fill=\"none\"/>\n",
              "    <path d=\"M18.56 5.44l.94 2.06.94-2.06 2.06-.94-2.06-.94-.94-2.06-.94 2.06-2.06.94zm-11 1L8.5 8.5l.94-2.06 2.06-.94-2.06-.94L8.5 2.5l-.94 2.06-2.06.94zm10 10l.94 2.06.94-2.06 2.06-.94-2.06-.94-.94-2.06-.94 2.06-2.06.94z\"/><path d=\"M17.41 7.96l-1.37-1.37c-.4-.4-.92-.59-1.43-.59-.52 0-1.04.2-1.43.59L10.3 9.45l-7.72 7.72c-.78.78-.78 2.05 0 2.83L4 21.41c.39.39.9.59 1.41.59.51 0 1.02-.2 1.41-.59l7.78-7.78 2.81-2.81c.8-.78.8-2.07 0-2.86zM5.41 20L4 18.59l7.72-7.72 1.47 1.35L5.41 20z\"/>\n",
              "  </svg>\n",
              "      </button>\n",
              "      \n",
              "  <style>\n",
              "    .colab-df-container {\n",
              "      display:flex;\n",
              "      flex-wrap:wrap;\n",
              "      gap: 12px;\n",
              "    }\n",
              "\n",
              "    .colab-df-convert {\n",
              "      background-color: #E8F0FE;\n",
              "      border: none;\n",
              "      border-radius: 50%;\n",
              "      cursor: pointer;\n",
              "      display: none;\n",
              "      fill: #1967D2;\n",
              "      height: 32px;\n",
              "      padding: 0 0 0 0;\n",
              "      width: 32px;\n",
              "    }\n",
              "\n",
              "    .colab-df-convert:hover {\n",
              "      background-color: #E2EBFA;\n",
              "      box-shadow: 0px 1px 2px rgba(60, 64, 67, 0.3), 0px 1px 3px 1px rgba(60, 64, 67, 0.15);\n",
              "      fill: #174EA6;\n",
              "    }\n",
              "\n",
              "    [theme=dark] .colab-df-convert {\n",
              "      background-color: #3B4455;\n",
              "      fill: #D2E3FC;\n",
              "    }\n",
              "\n",
              "    [theme=dark] .colab-df-convert:hover {\n",
              "      background-color: #434B5C;\n",
              "      box-shadow: 0px 1px 3px 1px rgba(0, 0, 0, 0.15);\n",
              "      filter: drop-shadow(0px 1px 2px rgba(0, 0, 0, 0.3));\n",
              "      fill: #FFFFFF;\n",
              "    }\n",
              "  </style>\n",
              "\n",
              "      <script>\n",
              "        const buttonEl =\n",
              "          document.querySelector('#df-8baf5a9f-230b-4e66-8c1f-dc2c17eb1a64 button.colab-df-convert');\n",
              "        buttonEl.style.display =\n",
              "          google.colab.kernel.accessAllowed ? 'block' : 'none';\n",
              "\n",
              "        async function convertToInteractive(key) {\n",
              "          const element = document.querySelector('#df-8baf5a9f-230b-4e66-8c1f-dc2c17eb1a64');\n",
              "          const dataTable =\n",
              "            await google.colab.kernel.invokeFunction('convertToInteractive',\n",
              "                                                     [key], {});\n",
              "          if (!dataTable) return;\n",
              "\n",
              "          const docLinkHtml = 'Like what you see? Visit the ' +\n",
              "            '<a target=\"_blank\" href=https://colab.research.google.com/notebooks/data_table.ipynb>data table notebook</a>'\n",
              "            + ' to learn more about interactive tables.';\n",
              "          element.innerHTML = '';\n",
              "          dataTable['output_type'] = 'display_data';\n",
              "          await google.colab.output.renderOutput(dataTable, element);\n",
              "          const docLink = document.createElement('div');\n",
              "          docLink.innerHTML = docLinkHtml;\n",
              "          element.appendChild(docLink);\n",
              "        }\n",
              "      </script>\n",
              "    </div>\n",
              "  </div>\n",
              "  "
            ]
          },
          "metadata": {},
          "execution_count": 35
        }
      ]
    }
  ],
  "metadata": {
    "kernelspec": {
      "display_name": "Python 3",
      "language": "python",
      "name": "python3"
    },
    "language_info": {
      "codemirror_mode": {
        "name": "ipython",
        "version": 3
      },
      "file_extension": ".py",
      "mimetype": "text/x-python",
      "name": "python",
      "nbconvert_exporter": "python",
      "pygments_lexer": "ipython3",
      "version": "3.7.9"
    },
    "colab": {
      "name": "EDA+baselines.ipynb",
      "provenance": [],
      "include_colab_link": true
    },
    "accelerator": "GPU",
    "gpuClass": "standard"
  },
  "nbformat": 4,
  "nbformat_minor": 5
}